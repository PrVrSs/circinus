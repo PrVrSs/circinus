{
 "cells": [
  {
   "cell_type": "code",
   "execution_count": 1,
   "id": "85521c43-def9-4a69-9693-e754a76f8549",
   "metadata": {},
   "outputs": [
    {
     "name": "stdout",
     "output_type": "stream",
     "text": [
      "\n",
      "\u001b[1m[\u001b[0m\u001b[34;49mnotice\u001b[0m\u001b[1;39;49m]\u001b[0m\u001b[39;49m A new release of pip is available: \u001b[0m\u001b[31;49m23.2.1\u001b[0m\u001b[39;49m -> \u001b[0m\u001b[32;49m23.3\u001b[0m\n",
      "\u001b[1m[\u001b[0m\u001b[34;49mnotice\u001b[0m\u001b[1;39;49m]\u001b[0m\u001b[39;49m To update, run: \u001b[0m\u001b[32;49mpip install --upgrade pip\u001b[0m\n",
      "Note: you may need to restart the kernel to use updated packages.\n"
     ]
    }
   ],
   "source": [
    "pip install -q circinus"
   ]
  },
  {
   "cell_type": "code",
   "execution_count": 2,
   "id": "b40a2197-9d25-4b71-893f-66f357f5f543",
   "metadata": {},
   "outputs": [],
   "source": [
    "from circinus.settings import load_config"
   ]
  },
  {
   "cell_type": "code",
   "execution_count": 3,
   "id": "61f47e49-6e23-4dee-a3f4-415667b651a8",
   "metadata": {},
   "outputs": [],
   "source": [
    "from circinus.agent import Agent"
   ]
  },
  {
   "cell_type": "code",
   "execution_count": 4,
   "id": "d87abcba-703e-4b6f-85db-49c33f6ab3f7",
   "metadata": {},
   "outputs": [],
   "source": [
    "load_config('conf.toml')"
   ]
  },
  {
   "cell_type": "code",
   "execution_count": 5,
   "id": "11874342-ebd6-4478-8076-616f19473f2f",
   "metadata": {},
   "outputs": [],
   "source": [
    "agent = Agent()"
   ]
  },
  {
   "cell_type": "code",
   "execution_count": 6,
   "id": "92477e88-7bbc-4e62-9cc1-7a820e644ce1",
   "metadata": {},
   "outputs": [],
   "source": [
    "snippets = agent.fuzz(documentation='blob_documentation.txt', code='blob.js', specification='blob.webidl')"
   ]
  },
  {
   "cell_type": "code",
   "execution_count": null,
   "id": "e53c2e6e-db33-4276-a2e3-f15c674c82da",
   "metadata": {},
   "outputs": [],
   "source": [
    "for snippet in snippets:\n",
    "    print(snippet)"
   ]
  },
  {
   "cell_type": "code",
   "execution_count": null,
   "id": "84f07f4f-d999-443d-8ae5-32412e64081f",
   "metadata": {},
   "outputs": [],
   "source": []
  }
 ],
 "metadata": {
  "kernelspec": {
   "display_name": "Python 3 (ipykernel)",
   "language": "python",
   "name": "python3"
  },
  "language_info": {
   "codemirror_mode": {
    "name": "ipython",
    "version": 3
   },
   "file_extension": ".py",
   "mimetype": "text/x-python",
   "name": "python",
   "nbconvert_exporter": "python",
   "pygments_lexer": "ipython3",
   "version": "3.11.5"
  }
 },
 "nbformat": 4,
 "nbformat_minor": 5
}
