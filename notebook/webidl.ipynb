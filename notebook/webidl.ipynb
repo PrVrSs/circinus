{
 "cells": [
  {
   "cell_type": "code",
   "execution_count": 1,
   "id": "85521c43-def9-4a69-9693-e754a76f8549",
   "metadata": {},
   "outputs": [
    {
     "name": "stdout",
     "output_type": "stream",
     "text": [
      "Requirement already satisfied: circinus in /home/sergey/PycharmProjects/pycrux/venv/lib/python3.11/site-packages (0.0.1)\n",
      "Requirement already satisfied: attrs<24.0.0,>=23.1.0 in /home/sergey/PycharmProjects/pycrux/venv/lib/python3.11/site-packages (from circinus) (23.1.0)\n",
      "Requirement already satisfied: click<9.0.0,>=8.1.7 in /home/sergey/PycharmProjects/pycrux/venv/lib/python3.11/site-packages (from circinus) (8.1.7)\n",
      "Requirement already satisfied: dynaconf<4.0.0,>=3.2.3 in /home/sergey/PycharmProjects/pycrux/venv/lib/python3.11/site-packages (from circinus) (3.2.3)\n",
      "Requirement already satisfied: loguru<0.8.0,>=0.7.2 in /home/sergey/PycharmProjects/pycrux/venv/lib/python3.11/site-packages (from circinus) (0.7.2)\n",
      "Requirement already satisfied: openai<0.29.0,>=0.28.1 in /home/sergey/PycharmProjects/pycrux/venv/lib/python3.11/site-packages (from circinus) (0.28.1)\n",
      "Requirement already satisfied: requests>=2.20 in /home/sergey/PycharmProjects/pycrux/venv/lib/python3.11/site-packages (from openai<0.29.0,>=0.28.1->circinus) (2.31.0)\n",
      "Requirement already satisfied: tqdm in /home/sergey/PycharmProjects/pycrux/venv/lib/python3.11/site-packages (from openai<0.29.0,>=0.28.1->circinus) (4.66.1)\n",
      "Requirement already satisfied: aiohttp in /home/sergey/PycharmProjects/pycrux/venv/lib/python3.11/site-packages (from openai<0.29.0,>=0.28.1->circinus) (3.8.6)\n",
      "Requirement already satisfied: charset-normalizer<4,>=2 in /home/sergey/PycharmProjects/pycrux/venv/lib/python3.11/site-packages (from requests>=2.20->openai<0.29.0,>=0.28.1->circinus) (3.3.0)\n",
      "Requirement already satisfied: idna<4,>=2.5 in /home/sergey/PycharmProjects/pycrux/venv/lib/python3.11/site-packages (from requests>=2.20->openai<0.29.0,>=0.28.1->circinus) (3.4)\n",
      "Requirement already satisfied: urllib3<3,>=1.21.1 in /home/sergey/PycharmProjects/pycrux/venv/lib/python3.11/site-packages (from requests>=2.20->openai<0.29.0,>=0.28.1->circinus) (2.0.6)\n",
      "Requirement already satisfied: certifi>=2017.4.17 in /home/sergey/PycharmProjects/pycrux/venv/lib/python3.11/site-packages (from requests>=2.20->openai<0.29.0,>=0.28.1->circinus) (2023.7.22)\n",
      "Requirement already satisfied: multidict<7.0,>=4.5 in /home/sergey/PycharmProjects/pycrux/venv/lib/python3.11/site-packages (from aiohttp->openai<0.29.0,>=0.28.1->circinus) (6.0.4)\n",
      "Requirement already satisfied: async-timeout<5.0,>=4.0.0a3 in /home/sergey/PycharmProjects/pycrux/venv/lib/python3.11/site-packages (from aiohttp->openai<0.29.0,>=0.28.1->circinus) (4.0.3)\n",
      "Requirement already satisfied: yarl<2.0,>=1.0 in /home/sergey/PycharmProjects/pycrux/venv/lib/python3.11/site-packages (from aiohttp->openai<0.29.0,>=0.28.1->circinus) (1.9.2)\n",
      "Requirement already satisfied: frozenlist>=1.1.1 in /home/sergey/PycharmProjects/pycrux/venv/lib/python3.11/site-packages (from aiohttp->openai<0.29.0,>=0.28.1->circinus) (1.4.0)\n",
      "Requirement already satisfied: aiosignal>=1.1.2 in /home/sergey/PycharmProjects/pycrux/venv/lib/python3.11/site-packages (from aiohttp->openai<0.29.0,>=0.28.1->circinus) (1.3.1)\n",
      "\n",
      "\u001b[1m[\u001b[0m\u001b[34;49mnotice\u001b[0m\u001b[1;39;49m]\u001b[0m\u001b[39;49m A new release of pip is available: \u001b[0m\u001b[31;49m23.2.1\u001b[0m\u001b[39;49m -> \u001b[0m\u001b[32;49m23.3\u001b[0m\n",
      "\u001b[1m[\u001b[0m\u001b[34;49mnotice\u001b[0m\u001b[1;39;49m]\u001b[0m\u001b[39;49m To update, run: \u001b[0m\u001b[32;49mpip install --upgrade pip\u001b[0m\n",
      "Note: you may need to restart the kernel to use updated packages.\n"
     ]
    }
   ],
   "source": [
    "pip install circinus"
   ]
  },
  {
   "cell_type": "code",
   "execution_count": 2,
   "id": "b40a2197-9d25-4b71-893f-66f357f5f543",
   "metadata": {},
   "outputs": [],
   "source": [
    "from circinus.settings import load_config"
   ]
  },
  {
   "cell_type": "code",
   "execution_count": 3,
   "id": "61f47e49-6e23-4dee-a3f4-415667b651a8",
   "metadata": {},
   "outputs": [],
   "source": [
    "from circinus.agent import Agent"
   ]
  },
  {
   "cell_type": "code",
   "execution_count": 4,
   "id": "d87abcba-703e-4b6f-85db-49c33f6ab3f7",
   "metadata": {},
   "outputs": [],
   "source": [
    "load_config('conf.toml')"
   ]
  },
  {
   "cell_type": "code",
   "execution_count": 5,
   "id": "11874342-ebd6-4478-8076-616f19473f2f",
   "metadata": {},
   "outputs": [],
   "source": [
    "agent = Agent()"
   ]
  },
  {
   "cell_type": "code",
   "execution_count": null,
   "id": "92477e88-7bbc-4e62-9cc1-7a820e644ce1",
   "metadata": {},
   "outputs": [],
   "source": [
    "list(agent.fuzz(documentation='blob_documentation.txt', code='blob.js', specification='blob.webidl'))"
   ]
  }
 ],
 "metadata": {
  "kernelspec": {
   "display_name": "Python 3 (ipykernel)",
   "language": "python",
   "name": "python3"
  },
  "language_info": {
   "codemirror_mode": {
    "name": "ipython",
    "version": 3
   },
   "file_extension": ".py",
   "mimetype": "text/x-python",
   "name": "python",
   "nbconvert_exporter": "python",
   "pygments_lexer": "ipython3",
   "version": "3.11.5"
  }
 },
 "nbformat": 4,
 "nbformat_minor": 5
}
